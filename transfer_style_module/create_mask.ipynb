{
 "cells": [
  {
   "cell_type": "code",
   "execution_count": 23,
   "metadata": {},
   "outputs": [
    {
     "data": {
      "text/plain": [
       "('./2023CV-master/original.jpg',\n",
       " './2023CV-master/bag.jpg',\n",
       " './binary_mask_image.png')"
      ]
     },
     "execution_count": 23,
     "metadata": {},
     "output_type": "execute_result"
    }
   ],
   "source": [
    "from PIL import Image\n",
    "import numpy as np\n",
    "import os\n",
    "\n",
    "# Load the original image and the segmented object\n",
    "original_image_path = './2023CV-master/original.jpg'\n",
    "segmented_object_path = './2023CV-master/bag.jpg'\n",
    "\n",
    "original_image = Image.open(original_image_path)\n",
    "segmented_object = Image.open(segmented_object_path)\n",
    "\n",
    "# Convert the segmented object image to a binary mask\n",
    "# Assuming the background is black and the object is white\n",
    "segmented_mask = segmented_object.convert('L')  # Convert to grayscale\n",
    "threshold = 1  # Pixels value above this threshold will be considered part of the mask\n",
    "binary_mask = segmented_mask.point(lambda p: p > threshold and 255)\n",
    "\n",
    "# For visualization, let's display the original image, the segmented object, and the binary mask\n",
    "binary_mask_image = Image.fromarray(np.array(binary_mask))\n",
    "\n",
    "# Saving the binary mask for user's reference\n",
    "binary_mask_image_path = './binary_mask_image.png'\n",
    "binary_mask_image.save(binary_mask_image_path)\n",
    "\n",
    "# Display the file paths to download or check the images\n",
    "original_image_path, segmented_object_path, binary_mask_image_path\n"
   ]
  },
  {
   "cell_type": "code",
   "execution_count": 10,
   "metadata": {},
   "outputs": [
    {
     "name": "stdout",
     "output_type": "stream",
     "text": [
      "/mnt/c/Users/huyue/OneDrive/桌面/INF573/segment-anything-main/segment-anything-main\n"
     ]
    }
   ],
   "source": [
    "import os\n",
    "print(os.getcwd())"
   ]
  },
  {
   "cell_type": "code",
   "execution_count": 26,
   "metadata": {},
   "outputs": [
    {
     "name": "stdout",
     "output_type": "stream",
     "text": [
      "Final image with style transferred only to the segmented object is saved as ./final_output.jpg\n"
     ]
    }
   ],
   "source": [
    "# We have already run the style transfer and have the resulting image\n",
    "# For example, the style-transferred image is saved as \"out.jpg\"\n",
    "styled_image_path = \"./2023CV-master/object_transfered/out.png\"\n",
    "\n",
    "# Load the style transferred image\n",
    "styled_image = Image.open(styled_image_path)\n",
    "\n",
    "# Load the binary mask created previously\n",
    "# Assuming it's saved as \"binary_mask_image.png\"\n",
    "binary_mask_path = './binary_mask_image.png'\n",
    "binary_mask = Image.open(binary_mask_path)\n",
    "\n",
    "# Load the original content image\n",
    "original_image_path = './2023CV-master/original.jpg'\n",
    "original_image = Image.open(original_image_path)\n",
    "\n",
    "# Make sure all images are the same size\n",
    "binary_mask = binary_mask.resize(original_image.size)\n",
    "styled_image = styled_image.resize(original_image.size)\n",
    "\n",
    "# Convert binary mask to boolean mask\n",
    "binary_mask_array = np.array(binary_mask)\n",
    "boolean_mask = binary_mask_array > 128  # Assuming mask is 255 for object, 0 for background\n",
    "\n",
    "# Prepare an empty canvas with the same size as the original image\n",
    "final_image = Image.new(\"RGB\", original_image.size)\n",
    "\n",
    "# Split the images into channels for processing\n",
    "r_s, g_s, b_s = styled_image.split()\n",
    "r_o, g_o, b_o = original_image.split()\n",
    "\n",
    "# Apply the boolean mask to each channel\n",
    "r = np.where(boolean_mask, r_s, r_o)\n",
    "g = np.where(boolean_mask, g_s, g_o)\n",
    "b = np.where(boolean_mask, b_s, b_o)\n",
    "\n",
    "# Merge the channels back\n",
    "final_image = Image.merge(\"RGB\", (Image.fromarray(r), Image.fromarray(g), Image.fromarray(b)))\n",
    "\n",
    "# Save the final image\n",
    "final_image_path = './final_output.jpg'\n",
    "final_image.save(final_image_path)\n",
    "\n",
    "# Now the final_image in my application\n",
    "print(f\"Final image with style transferred only to the segmented object is saved as {final_image_path}\")"
   ]
  },
  {
   "cell_type": "code",
   "execution_count": null,
   "metadata": {},
   "outputs": [],
   "source": []
  }
 ],
 "metadata": {
  "kernelspec": {
   "display_name": "Python (segmentAnything)",
   "language": "python",
   "name": "segmentanything"
  },
  "language_info": {
   "codemirror_mode": {
    "name": "ipython",
    "version": 3
   },
   "file_extension": ".py",
   "mimetype": "text/x-python",
   "name": "python",
   "nbconvert_exporter": "python",
   "pygments_lexer": "ipython3",
   "version": "3.11.5"
  }
 },
 "nbformat": 4,
 "nbformat_minor": 2
}
